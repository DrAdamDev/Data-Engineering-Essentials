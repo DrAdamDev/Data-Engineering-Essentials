{
  "nbformat": 4,
  "nbformat_minor": 0,
  "metadata": {
    "colab": {
      "provenance": [],
      "authorship_tag": "ABX9TyMgdhTRomZ5TwGqstAKrfLR",
      "include_colab_link": true
    },
    "kernelspec": {
      "name": "python3",
      "display_name": "Python 3"
    },
    "language_info": {
      "name": "python"
    }
  },
  "cells": [
    {
      "cell_type": "markdown",
      "metadata": {
        "id": "view-in-github",
        "colab_type": "text"
      },
      "source": [
        "<a href=\"https://colab.research.google.com/github/DrAdamDev/ETL-pipeline-for-UK-Employment-data/blob/main/ETL_Accounts_Pipeline.ipynb\" target=\"_parent\"><img src=\"https://colab.research.google.com/assets/colab-badge.svg\" alt=\"Open In Colab\"/></a>"
      ]
    },
    {
      "cell_type": "code",
      "execution_count": 2,
      "metadata": {
        "id": "Q1EZ5Oi6FEUB"
      },
      "outputs": [],
      "source": [
        "from google.colab import drive\n",
        "from google.colab import files\n",
        "import pandas as pd"
      ]
    },
    {
      "cell_type": "code",
      "source": [
        "#drive.mount('content')\n",
        "files.upload()"
      ],
      "metadata": {
        "id": "z6YFRaoFFRjd"
      },
      "execution_count": null,
      "outputs": []
    },
    {
      "cell_type": "code",
      "source": [
        "Accounts_filename = 'Accounts 22 - 23.csv'\n",
        "\n",
        "# Define internal account names\n",
        "internal_accounts = ['DR ADAM TUTORING LTD', \n",
        "                     'Adam Francis', \n",
        "                     'Blublocs Ltd', \n",
        "                     'NaN', \n",
        "                     'DR A TUTORING']\n",
        "\n",
        "# Define business targets names\n",
        "business_targets = ['STRIPE', \n",
        "                    'Blublocs Ltd', \n",
        "                    'Fiverreu', \n",
        "                    'Facebk', \n",
        "                    'Www.lalal.ai', \n",
        "                    'Imjas Kaloth', \n",
        "                    'Opn\\*My Gogoprint', \n",
        "                    \"Google \\*Services\", \n",
        "                    'Intechno Software', \n",
        "                    'DR ADAM TUTORING LTD', \n",
        "                    'Tutorboss', \n",
        "                    'Taxscouts'\n",
        "                    ]\n",
        "\n",
        "# Define columns to drop\n",
        "dropped_columns = ['Status', \n",
        "                   'Reference', \n",
        "                   'Created on', \n",
        "                   'Source fee amount', \n",
        "                   'Source fee currency', \n",
        "                   'Target amount (after fees)', \n",
        "                   'Exchange rate', 'Source currency', \n",
        "                   'Target currency'\n",
        "                   ]\n",
        "\n",
        "# Define new column names\n",
        "column_name_mapping = {\n",
        "    \"Finished on\": \"Transaction date\",\n",
        "    \"Source amount (after fees)\": \"Amount (USD)\"\n",
        "    }\n",
        "\n",
        "# Read in Accounts CSV file\n",
        "accounts_df = pd.read_csv(Accounts_filename)\n",
        "\n",
        "# Drop null columns\n",
        "accounts_df.dropna(axis=1, how='all', inplace=True)\n",
        "\n",
        "# Drop redundant columns\n",
        "accounts_df.drop(columns=dropped_columns, inplace=True)\n",
        "\n",
        "# Drop internal transactions\n",
        "accounts_df = accounts_df[~((accounts_df['Source name'].isin(internal_accounts)) & (accounts_df['Target name'].isin(internal_accounts)))]\n",
        "\n",
        "# Split ID column into two columns\n",
        "accounts_df[['Transaction type', 'Transaction ID']] = accounts_df['ID'].str.split('-', n=1, expand=True)\n",
        "\n",
        "# Create Business transaction columns\n",
        "accounts_df['Business transaction'] = accounts_df['Target name'].str.contains('|'.join(business_targets)).replace({True: 'Yes', False: 'No'})\n",
        "\n",
        "# Drop card cashback transactions\n",
        "accounts_df = accounts_df[~(accounts_df['Transaction type'] == 'CARD_CASHBACK')]\n",
        "\n",
        "# Update column names\n",
        "accounts_df.rename(columns=column_name_mapping, inplace=True)\n",
        "\n",
        "# Update datetime dtype\n",
        "accounts_df['Transaction date'] = pd.to_datetime(accounts_df['Transaction date']).dt.date\n",
        "\n",
        "# Drop the original ID column\n",
        "accounts_df.drop('ID', axis=1, inplace=True)\n",
        "\n",
        "# Drop internal transactions\n",
        "accounts_df = accounts_df[accounts_df['Direction'] != 'NEUTRAL']\n",
        "\n",
        "# Set index to Transaction ID\n",
        "accounts_df.set_index('Transaction ID', inplace=True)\n",
        "\n",
        "# Drop duplicate rows based on the index (Transaction ID)\n",
        "accounts_df = accounts_df[~accounts_df.index.duplicated(keep=False)]\n",
        "\n",
        "# Apply negative numbers to 'Amount USD'\n",
        "accounts_df.loc[accounts_df['Direction'] == 'OUT', 'Amount (USD)'] *= -1\n",
        "\n",
        "# Add row to including net profit\n",
        "total_in_out = accounts_df.groupby('Direction')['Amount (USD)'].sum()\n",
        "total_in = total_in_out.loc['IN']\n",
        "total_out = total_in_out.loc['OUT']\n",
        "net_profit = (total_in + total_out).round(2)\n",
        "\n",
        "summary_row = pd.DataFrame({'Direction': 'Net Profit',\n",
        "                            'Transaction date': '2022-07-26 -> 2023-01-26',\n",
        "                            'Source name': 'STRIPE',\n",
        "                            'Amount (USD)': net_profit,\n",
        "                            'Target name': 'DR ADAM TUTORING LTD',\n",
        "                            'Transaction type': 'ALL TRANSFERS',\n",
        "                            'Business transaction': 'Yes'},\n",
        "                            index=['Summary'])\n",
        "\n",
        "summary_row.index.name = 'Transaction ID'\n",
        "accounts_df = pd.concat([accounts_df, summary_row])\n",
        "\n",
        "# Add category column\n",
        "category_mapping = {'DR ADAM TUTORING LTD': 'Income',\n",
        "                    'Blublocs Ltd': 'Income',\n",
        "                    'Fiverreu': 'Services',\n",
        "                    'Tutorboss': 'Training',\n",
        "                    'Www.lalal.ai': 'Services',\n",
        "                    'Taxscouts': 'Services',\n",
        "                    'Imjas Kaloth': 'Marketing',\n",
        "                    'STRIPE': 'REFUND',\n",
        "                    'Opn*My Gogoprint': 'Marketing',\n",
        "                    'Google *Services': 'Advertising',\n",
        "                    'Intechno Software': 'IT Services'\n",
        "                    }\n",
        "\n",
        "accounts_df['Category'] = accounts_df['Target name'].map(category_mapping)\n",
        "accounts_df.loc[accounts_df['Target name'].str.startswith('Facebk'), 'Category'] = 'Advertising'\n",
        "accounts_df['Category'].fillna('Personal', inplace=True)\n"
      ],
      "metadata": {
        "id": "E2aFx1CWQFnJ"
      },
      "execution_count": 123,
      "outputs": []
    },
    {
      "cell_type": "code",
      "source": [
        "accounts_df.head(90)"
      ],
      "metadata": {
        "id": "7A_3g1IMwT_S"
      },
      "execution_count": null,
      "outputs": []
    },
    {
      "cell_type": "code",
      "source": [
        "# Define the filename for the Excel file\n",
        "output_filename = 'Accounts 22 - 23.xlsx'\n",
        "\n",
        "# Write the DataFrame to an Excel file\n",
        "accounts_df.to_excel(output_filename, index=True)\n",
        "\n",
        "# Download the Excel file\n",
        "from google.colab import files\n",
        "files.download(output_filename)"
      ],
      "metadata": {
        "colab": {
          "base_uri": "https://localhost:8080/",
          "height": 17
        },
        "id": "ltkKMr70YlWd",
        "outputId": "7edcac9b-055c-4d04-ba54-5b6cb5182dda"
      },
      "execution_count": 126,
      "outputs": [
        {
          "output_type": "display_data",
          "data": {
            "text/plain": [
              "<IPython.core.display.Javascript object>"
            ],
            "application/javascript": [
              "\n",
              "    async function download(id, filename, size) {\n",
              "      if (!google.colab.kernel.accessAllowed) {\n",
              "        return;\n",
              "      }\n",
              "      const div = document.createElement('div');\n",
              "      const label = document.createElement('label');\n",
              "      label.textContent = `Downloading \"${filename}\": `;\n",
              "      div.appendChild(label);\n",
              "      const progress = document.createElement('progress');\n",
              "      progress.max = size;\n",
              "      div.appendChild(progress);\n",
              "      document.body.appendChild(div);\n",
              "\n",
              "      const buffers = [];\n",
              "      let downloaded = 0;\n",
              "\n",
              "      const channel = await google.colab.kernel.comms.open(id);\n",
              "      // Send a message to notify the kernel that we're ready.\n",
              "      channel.send({})\n",
              "\n",
              "      for await (const message of channel.messages) {\n",
              "        // Send a message to notify the kernel that we're ready.\n",
              "        channel.send({})\n",
              "        if (message.buffers) {\n",
              "          for (const buffer of message.buffers) {\n",
              "            buffers.push(buffer);\n",
              "            downloaded += buffer.byteLength;\n",
              "            progress.value = downloaded;\n",
              "          }\n",
              "        }\n",
              "      }\n",
              "      const blob = new Blob(buffers, {type: 'application/binary'});\n",
              "      const a = document.createElement('a');\n",
              "      a.href = window.URL.createObjectURL(blob);\n",
              "      a.download = filename;\n",
              "      div.appendChild(a);\n",
              "      a.click();\n",
              "      div.remove();\n",
              "    }\n",
              "  "
            ]
          },
          "metadata": {}
        },
        {
          "output_type": "display_data",
          "data": {
            "text/plain": [
              "<IPython.core.display.Javascript object>"
            ],
            "application/javascript": [
              "download(\"download_9a256d29-314c-440e-809a-845ab077185f\", \"Accounts 22 - 23.xlsx\", 8839)"
            ]
          },
          "metadata": {}
        }
      ]
    }
  ]
}